{
  "nbformat": 4,
  "nbformat_minor": 0,
  "metadata": {
    "colab": {
      "provenance": [],
      "collapsed_sections": []
    },
    "kernelspec": {
      "name": "python3",
      "display_name": "Python 3"
    },
    "language_info": {
      "name": "python"
    }
  },
  "cells": [
    {
      "cell_type": "markdown",
      "source": [
        "Name:Biswarup Karmakar(SR:21055)\n",
        "\n",
        "# Problem **2**"
      ],
      "metadata": {
        "id": "3iIEZive9wr0"
      }
    },
    {
      "cell_type": "code",
      "source": [
        "import numpy as np\n",
        "A=([8,1,6],[3,5,7],[4,9,2])\n",
        "q,r=np.linalg.qr(A)\n",
        "print(\"The orthogonal matrix Q=\\n\", q)\n",
        "print(\"The rectangular matrix R=\\n\", r)"
      ],
      "metadata": {
        "colab": {
          "base_uri": "https://localhost:8080/"
        },
        "id": "UWqojhNV-CAz",
        "outputId": "e8888e7e-52a2-46e7-e407-8166683910ca"
      },
      "execution_count": 1,
      "outputs": [
        {
          "output_type": "stream",
          "name": "stdout",
          "text": [
            "The orthogonal matrix Q=\n",
            " [[-0.8479983   0.52229204  0.09005497]\n",
            " [-0.31799936 -0.36546806 -0.8748197 ]\n",
            " [-0.42399915 -0.77048304  0.47600483]]\n",
            "The rectangular matrix R=\n",
            " [[-9.43398113 -6.25398749 -8.16198368]\n",
            " [ 0.         -8.23939564 -0.96549025]\n",
            " [ 0.          0.         -4.63139839]]\n"
          ]
        }
      ]
    },
    {
      "cell_type": "markdown",
      "source": [
        "# Problem 7"
      ],
      "metadata": {
        "id": "SEOl9SZzbgI4"
      }
    },
    {
      "cell_type": "markdown",
      "source": [
        "Calculating the SVD of rank deficient matrix"
      ],
      "metadata": {
        "id": "QlWGofbPp9c4"
      }
    },
    {
      "cell_type": "code",
      "source": [
        "import numpy as np\n",
        "A=np.array([[1,2,3],[4,5,6],[1,2,3],[5,7,9]])\n",
        "b=np.array([1,2,3,4])\n",
        "U,Sigma,Vt=np.linalg.svd(A,full_matrices=False)\n",
        "print(\"U=\\n\",U)\n",
        "print(\"Sigma=\\n\",Sigma)\n",
        "print(\"Vt=\\n\",Vt)\n",
        "print(\"UtU=\\n\",np.matmul(U,U.T))\n",
        "x_lsq,residuals,rank,s=np.linalg.lstsq(A,b,rcond=-1)\n",
        "U1=U[:,[0,1]]\n",
        "Sigma1=np.diag(Sigma[[0,1]])\n",
        "V1t=Vt[[0,1],:]\n",
        "print(\"U1=\\n\",U1)\n",
        "print(\"U1^T*U1=\\n\",np.matmul(U1.T,U1))\n",
        "print(\"Sigma1=\\n\",Sigma1)\n",
        "print(\"V1t=\\n\",V1t)\n",
        "print(\"U1*Sigma1*V1t=\\n\",np.matmul(np.matmul(U1,Sigma1),V1t)) # A=U1*Sigma1*V1t\n",
        "V1tSigma1_inv=np.matmul(V1t.T,np.linalg.inv(Sigma1))\n",
        "U1tb=np.matmul(U1.T,b)\n",
        "print(\"The least square solution=\\n \",np.matmul(V1tSigma1_inv,U1tb))"
      ],
      "metadata": {
        "colab": {
          "base_uri": "https://localhost:8080/"
        },
        "id": "r3b3POE5biKR",
        "outputId": "2f555228-c8e8-49ae-bc74-2cb3a81f28ac"
      },
      "execution_count": 2,
      "outputs": [
        {
          "output_type": "stream",
          "name": "stdout",
          "text": [
            "U=\n",
            " [[-0.22948742  0.58935178  0.37294878]\n",
            " [-0.54417162 -0.55125062 -0.38170811]\n",
            " [-0.22948742  0.58935178 -0.7546569 ]\n",
            " [-0.77365903  0.03810116  0.38170811]]\n",
            "Sigma=\n",
            " [1.60921520e+01 1.02109877e+00 2.79953545e-16]\n",
            "Vt=\n",
            " [[-0.40416946 -0.56266067 -0.72115187]\n",
            " [-0.81852329 -0.12940752  0.55970824]\n",
            " [ 0.40824829 -0.81649658  0.40824829]]\n",
            "UtU=\n",
            " [[ 0.5390908  -0.34235758  0.11855163  0.34235758]\n",
            " [-0.34235758  0.74570108  0.08805866  0.25429892]\n",
            " [ 0.11855163  0.08805866  0.96950703 -0.08805866]\n",
            " [ 0.34235758  0.25429892 -0.08805866  0.74570108]]\n",
            "U1=\n",
            " [[-0.22948742  0.58935178]\n",
            " [-0.54417162 -0.55125062]\n",
            " [-0.22948742  0.58935178]\n",
            " [-0.77365903  0.03810116]]\n",
            "U1^T*U1=\n",
            " [[ 1.00000000e+00 -1.64679025e-16]\n",
            " [-1.64679025e-16  1.00000000e+00]]\n",
            "Sigma1=\n",
            " [[16.09215204  0.        ]\n",
            " [ 0.          1.02109877]]\n",
            "V1t=\n",
            " [[-0.40416946 -0.56266067 -0.72115187]\n",
            " [-0.81852329 -0.12940752  0.55970824]]\n",
            "U1*Sigma1*V1t=\n",
            " [[1. 2. 3.]\n",
            " [4. 5. 6.]\n",
            " [1. 2. 3.]\n",
            " [5. 7. 9.]]\n",
            "The least square solution=\n",
            "  [-1.00000000e+00  2.22044605e-16  1.00000000e+00]\n"
          ]
        }
      ]
    },
    {
      "cell_type": "code",
      "source": [],
      "metadata": {
        "id": "6urErtkf-NI6"
      },
      "execution_count": 2,
      "outputs": []
    },
    {
      "cell_type": "markdown",
      "source": [
        "# Problem 6\n"
      ],
      "metadata": {
        "id": "NxTUiYgq_vMO"
      }
    },
    {
      "cell_type": "markdown",
      "source": [
        "Here for $i=1$ to $100$ the data points $(t_i,f(t_i))$ satisfies a 14 degree polynomial such that $a_{14}t_i^{14}+...+a_1t_i+a_0=sin(10 t_i)$\\\n",
        "Then we get the system of equation $Ax=y$, where\\\n",
        " $A=\\begin{bmatrix}\n",
        "    1 & t_1 & \\dots  & t_1^{14} \\\\\n",
        "    1 & t_2 &  \\dots  & t_2^{14} \\\\\n",
        "    \\vdots &  \\vdots & \\ddots & \\vdots \\\\\n",
        "    1 & t_{100} & \\dots  & t_{100}^{14}\n",
        "\\end{bmatrix}$ and \n",
        "$x=\\begin{bmatrix}\n",
        "    a_0\\\\\n",
        "    a_1\\\\ \n",
        "    \\vdots \\\\ \n",
        "    a_{14}\n",
        "  \\end{bmatrix}$\n",
        "  Also $y=\\begin{bmatrix}\n",
        "    sin(10 t_1)\\\\\n",
        "    sin(10 t_2)\\\\ \n",
        "    \\vdots \\\\ \n",
        "    sin(10t_{100})\n",
        "  \\end{bmatrix}$. We want to find best x here such that $||Ax-y||_2$ is minimized."
      ],
      "metadata": {
        "id": "TcCQRm-pbGCW"
      }
    },
    {
      "cell_type": "markdown",
      "source": [],
      "metadata": {
        "id": "uA6Uu3xE_6-M"
      }
    },
    {
      "cell_type": "code",
      "source": [
        "import numpy as np\n",
        "import matplotlib.pyplot as plt\n",
        "from scipy import sin\n",
        "import copy\n",
        "import pandas as pd\n",
        "t=np.linspace(0,1,100)\n",
        "#print(\"t=\\n\",t)\n",
        "y =np.array( np.sin(10*t))\n",
        "A=np.fliplr(np.vander(t, 15))#generating vandermonde matrix & flipping the \n",
        "#print(A)                      # column to put all the 1's in 1st column\n",
        "                   \n",
        "# Modified Gram schimdt from algorithm 8.1,Trfethen_Bau book\n",
        "def MGS(A):\n",
        "    m,n=A.shape\n",
        "    v=[]\n",
        "    q=[]\n",
        "    r=np.zeros((n,n))\n",
        "    for i in range(n):\n",
        "        v.append(A[:,i])\n",
        "    for i in range(n):\n",
        "        r[i,i]=np.linalg.norm(v[i],2)\n",
        "        q.append(v[i]/r[i,i])\n",
        "   \n",
        "        for j in range(i+1,n):\n",
        "            r[i,j]=np.dot(q[i],v[j])\n",
        "            v[j]=v[j]-r[i,j]*q[i]\n",
        "\n",
        "    \n",
        "    Q=np.transpose(np.array(q))\n",
        "    R=np.matrix(r)\n",
        "  \n",
        "    return Q,R\n",
        "#print(MGS(A))\n",
        "y.shape\n",
        "A.shape\n",
        "np.linalg.matrix_rank(A)"
      ],
      "metadata": {
        "colab": {
          "base_uri": "https://localhost:8080/"
        },
        "id": "ZATrHzSn_4_5",
        "outputId": "92e596a7-ff95-4788-d573-75d558a927a1"
      },
      "execution_count": 3,
      "outputs": [
        {
          "output_type": "execute_result",
          "data": {
            "text/plain": [
              "15"
            ]
          },
          "metadata": {},
          "execution_count": 3
        }
      ]
    },
    {
      "cell_type": "code",
      "source": [
        "#Householder QR factorisation from algorithm 10.1,10.2 in text book\n",
        "def householder(A,y):\n",
        "    R=copy.deepcopy(A)\n",
        "    m,n = R.shape\n",
        "    v = []\n",
        "    q = []\n",
        "    \n",
        "    for i in range(n):\n",
        "        x = R[i : m, i]\n",
        "        e1 = np.zeros(len(x))\n",
        "        e1[0] = 1\n",
        "        v.append(x + (np.sign(x[0])*np.linalg.norm(x, 2)*e1))\n",
        "        v[i] = v[i] / np.linalg.norm(v[i], 2)\n",
        "        R[i : m, i : n] = R[i :m, i : n] - 2*(v[i].reshape(-1, 1))*np.dot(v[i],\n",
        "R[i : m, i : n])\n",
        " \n",
        "    b=copy.deepcopy(y)\n",
        "    for i in range(n): #calculation of Q^t*y   \n",
        "        b[i:m]=b[i:m]-2*np.dot(v[i],b[i:m])*v[i]\n",
        "    \n",
        "       \n",
        "    R = R[:n, :n]\n",
        "    b = b[:n]\n",
        "    #print(R)   \n",
        "    return R,b\n"
      ],
      "metadata": {
        "id": "9aKedSEh1_dp"
      },
      "execution_count": 4,
      "outputs": []
    },
    {
      "cell_type": "code",
      "source": [
        "#Back substitution\n",
        "def back_sub(R,z):\n",
        "  size=len(z)\n",
        "  xcomp = np.zeros(size)\n",
        "\n",
        "  for i in range(size-1, -1, -1):\n",
        "    tmp = z[i]\n",
        "    for j in range(size-1, i, -1):\n",
        "        tmp -= xcomp[j]*R[i,j]\n",
        "        \n",
        "    xcomp[i] = tmp/R[i,i]\n",
        "  return xcomp"
      ],
      "metadata": {
        "id": "8dslDI2EDnrS"
      },
      "execution_count": 5,
      "outputs": []
    },
    {
      "cell_type": "code",
      "source": [
        "#Gram-Schmidt Method\n",
        "Q_mgs, R_mgs = MGS(A)\n",
        "Qtb_mgs = np.matmul(np.transpose(Q_mgs), y)\n",
        "x_mgs = back_sub(R_mgs, Qtb_mgs)\n",
        "f_mgs=np.matmul(A,x_mgs)\n",
        "#print(\"x_mgs=\\n\",x_mgs)\n",
        "#Householder Method\n",
        "R_hhold,Qtb_hhold=householder(A,y)\n",
        "x_hholder=back_sub(R_hhold,Qtb_hhold)\n",
        "f_hholder=np.matmul(A,x_hholder)\n"
      ],
      "metadata": {
        "id": "6vxgfPpPp1qv"
      },
      "execution_count": 6,
      "outputs": []
    },
    {
      "cell_type": "code",
      "source": [
        "#SVD method using inbuilt libraries\n",
        "U, sigma, Vt = np.linalg.svd(A, full_matrices = False)\n",
        "Uty = np.matmul(np.transpose(U), y)    \n",
        "Vtx= back_sub(np.diag(sigma),Uty)\n",
        "x_svd = np.matmul(np.transpose(Vt),Vtx)\n",
        "f_svd=np.matmul(A,x_svd)\n"
      ],
      "metadata": {
        "id": "V8FzhLfI41WG"
      },
      "execution_count": 7,
      "outputs": []
    },
    {
      "cell_type": "code",
      "source": [
        "# Using Normal equations\n",
        "AtA= np.matmul(A.T, A)\n",
        "x_normal = np.matmul(np.linalg.inv(AtA), np.matmul(A.T, y))\n",
        "f_normal=np.matmul(A,x_normal)\n",
        "#using library least square solution\n",
        "x_lsq,residuals,rank,s=np.linalg.lstsq(A,y,rcond=-1)\n",
        "f_lsq=np.matmul(A,x_lsq)\n"
      ],
      "metadata": {
        "id": "roQxpG7MXBuI"
      },
      "execution_count": 8,
      "outputs": []
    },
    {
      "cell_type": "code",
      "source": [
        "#Comparison between solution from the different Method\n",
        "result_df = pd.DataFrame()\n",
        "result_df['Modified Gram-Schmidt'] = x_mgs\n",
        "result_df['Householder Factorization'] = x_hholder\n",
        "result_df['SVD'] = x_svd\n",
        "result_df['Normal Equation'] = x_normal\n",
        "result_df['Library Inbuilt'] = x_lsq\n",
        "result_df\n"
      ],
      "metadata": {
        "colab": {
          "base_uri": "https://localhost:8080/",
          "height": 520
        },
        "id": "T4KSd-wLIvjg",
        "outputId": "22e079ca-5aad-4bd3-c397-b6e7f12b0bb7"
      },
      "execution_count": 9,
      "outputs": [
        {
          "output_type": "execute_result",
          "data": {
            "text/plain": [
              "    Modified Gram-Schmidt  Householder Factorization           SVD  \\\n",
              "0           -2.100401e-08              -1.603914e-07 -1.603941e-07   \n",
              "1            1.000001e+01               1.000006e+01  1.000006e+01   \n",
              "2           -1.221437e-04              -3.149231e-03 -3.149232e-03   \n",
              "3           -1.666817e+02              -1.666106e+02 -1.666106e+02   \n",
              "4            5.924263e-01              -2.959488e-01 -2.959491e-01   \n",
              "5            8.237059e+02               8.304565e+02  8.304565e+02   \n",
              "6            8.880651e+01               5.522388e+01  5.522387e+01   \n",
              "7           -2.506321e+03              -2.392044e+03 -2.392044e+03   \n",
              "8            2.073696e+03               1.801110e+03  1.801110e+03   \n",
              "9           -2.968933e+03              -2.508831e+03 -2.508831e+03   \n",
              "10           1.107701e+04               1.053011e+04  1.053011e+04   \n",
              "11          -1.732177e+04              -1.687406e+04 -1.687406e+04   \n",
              "12           1.302754e+04               1.278729e+04  1.278729e+04   \n",
              "13          -4.876514e+03              -4.800450e+03 -4.800450e+03   \n",
              "14           7.383304e+02               7.275610e+02  7.275610e+02   \n",
              "\n",
              "    Normal Equation  Library Inbuilt  \n",
              "0          0.025028    -1.603941e-07  \n",
              "1          9.376842     1.000006e+01  \n",
              "2          3.379533    -3.149232e-03  \n",
              "3       -180.642216    -1.666106e+02  \n",
              "4         89.611298    -2.959491e-01  \n",
              "5        353.379395     8.304565e+02  \n",
              "6       1627.645508     5.522387e+01  \n",
              "7      -5337.183594    -2.392044e+03  \n",
              "8       3664.898438     1.801110e+03  \n",
              "9       2276.875000    -2.508831e+03  \n",
              "10     -3802.246094     1.053011e+04  \n",
              "11      1372.167969    -1.687406e+04  \n",
              "12      -230.382812     1.278729e+04  \n",
              "13       266.558594    -4.800450e+03  \n",
              "14      -114.082520     7.275610e+02  "
            ],
            "text/html": [
              "\n",
              "  <div id=\"df-e7078a7f-5efb-46f4-a905-5466cdcf6f5f\">\n",
              "    <div class=\"colab-df-container\">\n",
              "      <div>\n",
              "<style scoped>\n",
              "    .dataframe tbody tr th:only-of-type {\n",
              "        vertical-align: middle;\n",
              "    }\n",
              "\n",
              "    .dataframe tbody tr th {\n",
              "        vertical-align: top;\n",
              "    }\n",
              "\n",
              "    .dataframe thead th {\n",
              "        text-align: right;\n",
              "    }\n",
              "</style>\n",
              "<table border=\"1\" class=\"dataframe\">\n",
              "  <thead>\n",
              "    <tr style=\"text-align: right;\">\n",
              "      <th></th>\n",
              "      <th>Modified Gram-Schmidt</th>\n",
              "      <th>Householder Factorization</th>\n",
              "      <th>SVD</th>\n",
              "      <th>Normal Equation</th>\n",
              "      <th>Library Inbuilt</th>\n",
              "    </tr>\n",
              "  </thead>\n",
              "  <tbody>\n",
              "    <tr>\n",
              "      <th>0</th>\n",
              "      <td>-2.100401e-08</td>\n",
              "      <td>-1.603914e-07</td>\n",
              "      <td>-1.603941e-07</td>\n",
              "      <td>0.025028</td>\n",
              "      <td>-1.603941e-07</td>\n",
              "    </tr>\n",
              "    <tr>\n",
              "      <th>1</th>\n",
              "      <td>1.000001e+01</td>\n",
              "      <td>1.000006e+01</td>\n",
              "      <td>1.000006e+01</td>\n",
              "      <td>9.376842</td>\n",
              "      <td>1.000006e+01</td>\n",
              "    </tr>\n",
              "    <tr>\n",
              "      <th>2</th>\n",
              "      <td>-1.221437e-04</td>\n",
              "      <td>-3.149231e-03</td>\n",
              "      <td>-3.149232e-03</td>\n",
              "      <td>3.379533</td>\n",
              "      <td>-3.149232e-03</td>\n",
              "    </tr>\n",
              "    <tr>\n",
              "      <th>3</th>\n",
              "      <td>-1.666817e+02</td>\n",
              "      <td>-1.666106e+02</td>\n",
              "      <td>-1.666106e+02</td>\n",
              "      <td>-180.642216</td>\n",
              "      <td>-1.666106e+02</td>\n",
              "    </tr>\n",
              "    <tr>\n",
              "      <th>4</th>\n",
              "      <td>5.924263e-01</td>\n",
              "      <td>-2.959488e-01</td>\n",
              "      <td>-2.959491e-01</td>\n",
              "      <td>89.611298</td>\n",
              "      <td>-2.959491e-01</td>\n",
              "    </tr>\n",
              "    <tr>\n",
              "      <th>5</th>\n",
              "      <td>8.237059e+02</td>\n",
              "      <td>8.304565e+02</td>\n",
              "      <td>8.304565e+02</td>\n",
              "      <td>353.379395</td>\n",
              "      <td>8.304565e+02</td>\n",
              "    </tr>\n",
              "    <tr>\n",
              "      <th>6</th>\n",
              "      <td>8.880651e+01</td>\n",
              "      <td>5.522388e+01</td>\n",
              "      <td>5.522387e+01</td>\n",
              "      <td>1627.645508</td>\n",
              "      <td>5.522387e+01</td>\n",
              "    </tr>\n",
              "    <tr>\n",
              "      <th>7</th>\n",
              "      <td>-2.506321e+03</td>\n",
              "      <td>-2.392044e+03</td>\n",
              "      <td>-2.392044e+03</td>\n",
              "      <td>-5337.183594</td>\n",
              "      <td>-2.392044e+03</td>\n",
              "    </tr>\n",
              "    <tr>\n",
              "      <th>8</th>\n",
              "      <td>2.073696e+03</td>\n",
              "      <td>1.801110e+03</td>\n",
              "      <td>1.801110e+03</td>\n",
              "      <td>3664.898438</td>\n",
              "      <td>1.801110e+03</td>\n",
              "    </tr>\n",
              "    <tr>\n",
              "      <th>9</th>\n",
              "      <td>-2.968933e+03</td>\n",
              "      <td>-2.508831e+03</td>\n",
              "      <td>-2.508831e+03</td>\n",
              "      <td>2276.875000</td>\n",
              "      <td>-2.508831e+03</td>\n",
              "    </tr>\n",
              "    <tr>\n",
              "      <th>10</th>\n",
              "      <td>1.107701e+04</td>\n",
              "      <td>1.053011e+04</td>\n",
              "      <td>1.053011e+04</td>\n",
              "      <td>-3802.246094</td>\n",
              "      <td>1.053011e+04</td>\n",
              "    </tr>\n",
              "    <tr>\n",
              "      <th>11</th>\n",
              "      <td>-1.732177e+04</td>\n",
              "      <td>-1.687406e+04</td>\n",
              "      <td>-1.687406e+04</td>\n",
              "      <td>1372.167969</td>\n",
              "      <td>-1.687406e+04</td>\n",
              "    </tr>\n",
              "    <tr>\n",
              "      <th>12</th>\n",
              "      <td>1.302754e+04</td>\n",
              "      <td>1.278729e+04</td>\n",
              "      <td>1.278729e+04</td>\n",
              "      <td>-230.382812</td>\n",
              "      <td>1.278729e+04</td>\n",
              "    </tr>\n",
              "    <tr>\n",
              "      <th>13</th>\n",
              "      <td>-4.876514e+03</td>\n",
              "      <td>-4.800450e+03</td>\n",
              "      <td>-4.800450e+03</td>\n",
              "      <td>266.558594</td>\n",
              "      <td>-4.800450e+03</td>\n",
              "    </tr>\n",
              "    <tr>\n",
              "      <th>14</th>\n",
              "      <td>7.383304e+02</td>\n",
              "      <td>7.275610e+02</td>\n",
              "      <td>7.275610e+02</td>\n",
              "      <td>-114.082520</td>\n",
              "      <td>7.275610e+02</td>\n",
              "    </tr>\n",
              "  </tbody>\n",
              "</table>\n",
              "</div>\n",
              "      <button class=\"colab-df-convert\" onclick=\"convertToInteractive('df-e7078a7f-5efb-46f4-a905-5466cdcf6f5f')\"\n",
              "              title=\"Convert this dataframe to an interactive table.\"\n",
              "              style=\"display:none;\">\n",
              "        \n",
              "  <svg xmlns=\"http://www.w3.org/2000/svg\" height=\"24px\"viewBox=\"0 0 24 24\"\n",
              "       width=\"24px\">\n",
              "    <path d=\"M0 0h24v24H0V0z\" fill=\"none\"/>\n",
              "    <path d=\"M18.56 5.44l.94 2.06.94-2.06 2.06-.94-2.06-.94-.94-2.06-.94 2.06-2.06.94zm-11 1L8.5 8.5l.94-2.06 2.06-.94-2.06-.94L8.5 2.5l-.94 2.06-2.06.94zm10 10l.94 2.06.94-2.06 2.06-.94-2.06-.94-.94-2.06-.94 2.06-2.06.94z\"/><path d=\"M17.41 7.96l-1.37-1.37c-.4-.4-.92-.59-1.43-.59-.52 0-1.04.2-1.43.59L10.3 9.45l-7.72 7.72c-.78.78-.78 2.05 0 2.83L4 21.41c.39.39.9.59 1.41.59.51 0 1.02-.2 1.41-.59l7.78-7.78 2.81-2.81c.8-.78.8-2.07 0-2.86zM5.41 20L4 18.59l7.72-7.72 1.47 1.35L5.41 20z\"/>\n",
              "  </svg>\n",
              "      </button>\n",
              "      \n",
              "  <style>\n",
              "    .colab-df-container {\n",
              "      display:flex;\n",
              "      flex-wrap:wrap;\n",
              "      gap: 12px;\n",
              "    }\n",
              "\n",
              "    .colab-df-convert {\n",
              "      background-color: #E8F0FE;\n",
              "      border: none;\n",
              "      border-radius: 50%;\n",
              "      cursor: pointer;\n",
              "      display: none;\n",
              "      fill: #1967D2;\n",
              "      height: 32px;\n",
              "      padding: 0 0 0 0;\n",
              "      width: 32px;\n",
              "    }\n",
              "\n",
              "    .colab-df-convert:hover {\n",
              "      background-color: #E2EBFA;\n",
              "      box-shadow: 0px 1px 2px rgba(60, 64, 67, 0.3), 0px 1px 3px 1px rgba(60, 64, 67, 0.15);\n",
              "      fill: #174EA6;\n",
              "    }\n",
              "\n",
              "    [theme=dark] .colab-df-convert {\n",
              "      background-color: #3B4455;\n",
              "      fill: #D2E3FC;\n",
              "    }\n",
              "\n",
              "    [theme=dark] .colab-df-convert:hover {\n",
              "      background-color: #434B5C;\n",
              "      box-shadow: 0px 1px 3px 1px rgba(0, 0, 0, 0.15);\n",
              "      filter: drop-shadow(0px 1px 2px rgba(0, 0, 0, 0.3));\n",
              "      fill: #FFFFFF;\n",
              "    }\n",
              "  </style>\n",
              "\n",
              "      <script>\n",
              "        const buttonEl =\n",
              "          document.querySelector('#df-e7078a7f-5efb-46f4-a905-5466cdcf6f5f button.colab-df-convert');\n",
              "        buttonEl.style.display =\n",
              "          google.colab.kernel.accessAllowed ? 'block' : 'none';\n",
              "\n",
              "        async function convertToInteractive(key) {\n",
              "          const element = document.querySelector('#df-e7078a7f-5efb-46f4-a905-5466cdcf6f5f');\n",
              "          const dataTable =\n",
              "            await google.colab.kernel.invokeFunction('convertToInteractive',\n",
              "                                                     [key], {});\n",
              "          if (!dataTable) return;\n",
              "\n",
              "          const docLinkHtml = 'Like what you see? Visit the ' +\n",
              "            '<a target=\"_blank\" href=https://colab.research.google.com/notebooks/data_table.ipynb>data table notebook</a>'\n",
              "            + ' to learn more about interactive tables.';\n",
              "          element.innerHTML = '';\n",
              "          dataTable['output_type'] = 'display_data';\n",
              "          await google.colab.output.renderOutput(dataTable, element);\n",
              "          const docLink = document.createElement('div');\n",
              "          docLink.innerHTML = docLinkHtml;\n",
              "          element.appendChild(docLink);\n",
              "        }\n",
              "      </script>\n",
              "    </div>\n",
              "  </div>\n",
              "  "
            ]
          },
          "metadata": {},
          "execution_count": 9
        }
      ]
    },
    {
      "cell_type": "markdown",
      "source": [
        "This shows that SVD and Housholder factorization produces nearby solution to each other.MGS also gives resonable result but the result from Normal equations is almost different from Library inbuilt ."
      ],
      "metadata": {
        "id": "Jph7sS9bJFOP"
      }
    },
    {
      "cell_type": "code",
      "source": [
        "\n",
        "x_x_library_norm=[]\n",
        "for x in (x_mgs,x_hholder,x_svd,x_normal,x_lsq):\n",
        "    x_x_library_norm.append(np.linalg.norm(x-x_lsq, 2))\n",
        "\n",
        "residual_norm=[]\n",
        "for f in (f_mgs,f_hholder,f_svd,f_normal,f_lsq):\n",
        "    residual_norm.append(np.linalg.norm(f-y,2))\n",
        "comparison_df=pd.DataFrame()\n",
        "comparison_df['Method']=['MGS','Householder','SVD','Normal equations','Library inbuilt LSQ']\n",
        "comparison_df['||x-x_library||_2']=x_x_library_norm\n",
        "comparison_df['||Ax-y||_2']=residual_norm\n",
        "comparison_df"
      ],
      "metadata": {
        "id": "r9uptuwjzXdR",
        "colab": {
          "base_uri": "https://localhost:8080/",
          "height": 206
        },
        "outputId": "771a9c25-94cb-48b3-d91f-1b806ab00866"
      },
      "execution_count": 10,
      "outputs": [
        {
          "output_type": "execute_result",
          "data": {
            "text/plain": [
              "                Method  ||x-x_library||_2  ||Ax-y||_2\n",
              "0                  MGS       9.291918e+02    0.000002\n",
              "1          Householder       5.015996e-04    0.000002\n",
              "2                  SVD       9.532089e-07    0.000002\n",
              "3     Normal equations       2.778386e+04    0.236495\n",
              "4  Library inbuilt LSQ       0.000000e+00    0.000002"
            ],
            "text/html": [
              "\n",
              "  <div id=\"df-9238f0bf-8a8b-4fa0-a3e7-b7a855e6c130\">\n",
              "    <div class=\"colab-df-container\">\n",
              "      <div>\n",
              "<style scoped>\n",
              "    .dataframe tbody tr th:only-of-type {\n",
              "        vertical-align: middle;\n",
              "    }\n",
              "\n",
              "    .dataframe tbody tr th {\n",
              "        vertical-align: top;\n",
              "    }\n",
              "\n",
              "    .dataframe thead th {\n",
              "        text-align: right;\n",
              "    }\n",
              "</style>\n",
              "<table border=\"1\" class=\"dataframe\">\n",
              "  <thead>\n",
              "    <tr style=\"text-align: right;\">\n",
              "      <th></th>\n",
              "      <th>Method</th>\n",
              "      <th>||x-x_library||_2</th>\n",
              "      <th>||Ax-y||_2</th>\n",
              "    </tr>\n",
              "  </thead>\n",
              "  <tbody>\n",
              "    <tr>\n",
              "      <th>0</th>\n",
              "      <td>MGS</td>\n",
              "      <td>9.291918e+02</td>\n",
              "      <td>0.000002</td>\n",
              "    </tr>\n",
              "    <tr>\n",
              "      <th>1</th>\n",
              "      <td>Householder</td>\n",
              "      <td>5.015996e-04</td>\n",
              "      <td>0.000002</td>\n",
              "    </tr>\n",
              "    <tr>\n",
              "      <th>2</th>\n",
              "      <td>SVD</td>\n",
              "      <td>9.532089e-07</td>\n",
              "      <td>0.000002</td>\n",
              "    </tr>\n",
              "    <tr>\n",
              "      <th>3</th>\n",
              "      <td>Normal equations</td>\n",
              "      <td>2.778386e+04</td>\n",
              "      <td>0.236495</td>\n",
              "    </tr>\n",
              "    <tr>\n",
              "      <th>4</th>\n",
              "      <td>Library inbuilt LSQ</td>\n",
              "      <td>0.000000e+00</td>\n",
              "      <td>0.000002</td>\n",
              "    </tr>\n",
              "  </tbody>\n",
              "</table>\n",
              "</div>\n",
              "      <button class=\"colab-df-convert\" onclick=\"convertToInteractive('df-9238f0bf-8a8b-4fa0-a3e7-b7a855e6c130')\"\n",
              "              title=\"Convert this dataframe to an interactive table.\"\n",
              "              style=\"display:none;\">\n",
              "        \n",
              "  <svg xmlns=\"http://www.w3.org/2000/svg\" height=\"24px\"viewBox=\"0 0 24 24\"\n",
              "       width=\"24px\">\n",
              "    <path d=\"M0 0h24v24H0V0z\" fill=\"none\"/>\n",
              "    <path d=\"M18.56 5.44l.94 2.06.94-2.06 2.06-.94-2.06-.94-.94-2.06-.94 2.06-2.06.94zm-11 1L8.5 8.5l.94-2.06 2.06-.94-2.06-.94L8.5 2.5l-.94 2.06-2.06.94zm10 10l.94 2.06.94-2.06 2.06-.94-2.06-.94-.94-2.06-.94 2.06-2.06.94z\"/><path d=\"M17.41 7.96l-1.37-1.37c-.4-.4-.92-.59-1.43-.59-.52 0-1.04.2-1.43.59L10.3 9.45l-7.72 7.72c-.78.78-.78 2.05 0 2.83L4 21.41c.39.39.9.59 1.41.59.51 0 1.02-.2 1.41-.59l7.78-7.78 2.81-2.81c.8-.78.8-2.07 0-2.86zM5.41 20L4 18.59l7.72-7.72 1.47 1.35L5.41 20z\"/>\n",
              "  </svg>\n",
              "      </button>\n",
              "      \n",
              "  <style>\n",
              "    .colab-df-container {\n",
              "      display:flex;\n",
              "      flex-wrap:wrap;\n",
              "      gap: 12px;\n",
              "    }\n",
              "\n",
              "    .colab-df-convert {\n",
              "      background-color: #E8F0FE;\n",
              "      border: none;\n",
              "      border-radius: 50%;\n",
              "      cursor: pointer;\n",
              "      display: none;\n",
              "      fill: #1967D2;\n",
              "      height: 32px;\n",
              "      padding: 0 0 0 0;\n",
              "      width: 32px;\n",
              "    }\n",
              "\n",
              "    .colab-df-convert:hover {\n",
              "      background-color: #E2EBFA;\n",
              "      box-shadow: 0px 1px 2px rgba(60, 64, 67, 0.3), 0px 1px 3px 1px rgba(60, 64, 67, 0.15);\n",
              "      fill: #174EA6;\n",
              "    }\n",
              "\n",
              "    [theme=dark] .colab-df-convert {\n",
              "      background-color: #3B4455;\n",
              "      fill: #D2E3FC;\n",
              "    }\n",
              "\n",
              "    [theme=dark] .colab-df-convert:hover {\n",
              "      background-color: #434B5C;\n",
              "      box-shadow: 0px 1px 3px 1px rgba(0, 0, 0, 0.15);\n",
              "      filter: drop-shadow(0px 1px 2px rgba(0, 0, 0, 0.3));\n",
              "      fill: #FFFFFF;\n",
              "    }\n",
              "  </style>\n",
              "\n",
              "      <script>\n",
              "        const buttonEl =\n",
              "          document.querySelector('#df-9238f0bf-8a8b-4fa0-a3e7-b7a855e6c130 button.colab-df-convert');\n",
              "        buttonEl.style.display =\n",
              "          google.colab.kernel.accessAllowed ? 'block' : 'none';\n",
              "\n",
              "        async function convertToInteractive(key) {\n",
              "          const element = document.querySelector('#df-9238f0bf-8a8b-4fa0-a3e7-b7a855e6c130');\n",
              "          const dataTable =\n",
              "            await google.colab.kernel.invokeFunction('convertToInteractive',\n",
              "                                                     [key], {});\n",
              "          if (!dataTable) return;\n",
              "\n",
              "          const docLinkHtml = 'Like what you see? Visit the ' +\n",
              "            '<a target=\"_blank\" href=https://colab.research.google.com/notebooks/data_table.ipynb>data table notebook</a>'\n",
              "            + ' to learn more about interactive tables.';\n",
              "          element.innerHTML = '';\n",
              "          dataTable['output_type'] = 'display_data';\n",
              "          await google.colab.output.renderOutput(dataTable, element);\n",
              "          const docLink = document.createElement('div');\n",
              "          docLink.innerHTML = docLinkHtml;\n",
              "          element.appendChild(docLink);\n",
              "        }\n",
              "      </script>\n",
              "    </div>\n",
              "  </div>\n",
              "  "
            ]
          },
          "metadata": {},
          "execution_count": 10
        }
      ]
    },
    {
      "cell_type": "markdown",
      "source": [
        "The Given matrix is full column rank matrix.\n",
        "The above table shows that the approximation comes from SVD,Householder factorisation and from Library inbuilt give the similiar type of result.The Householder factorization and SVD factorization are more Numerical stable than Normal equations.MGS is also Numericallly unstable and orthogonality lost due to round off error.Hence this gives little bit worst result than SVD,householder.The orthogonality is retained in SVD and House holder factorization. The worst result we got for Normal equation, because of large floating point  error during the calculations of the  $(A^TA)^{-1}$. This leads to large error in solution."
      ],
      "metadata": {
        "id": "PYTV67GqDGM-"
      }
    },
    {
      "cell_type": "code",
      "source": [
        "#Plotting the approximation\n",
        "plt.figure()\n",
        "plt.plot(t,y,color='r',label='Data')\n",
        "plt.plot(t,f_lsq,'g--',label='LSQ Library(Truth)')\n",
        "plt.scatter(t,f_mgs,color='b',s=5,label='MGS')\n",
        "plt.title(\"Comparison between approximation given by MGS and library inbuilt\")\n",
        "plt.xlabel(\"t\")\n",
        "plt.ylabel(\"sin(10*t\")\n",
        "plt.legend()\n",
        "plt.show()\n",
        "\n",
        "\n",
        "plt.figure()\n",
        "plt.plot(t,y,color='r',label='Data')\n",
        "plt.plot(t,f_lsq,'g--',label='LSQ Library(Truth)')\n",
        "plt.scatter(t,f_svd,color='c',s=5,label='SVD')\n",
        "plt.title(\"Comparison between approximation given by SVD and library inbuilt\")\n",
        "plt.xlabel(\"t\")\n",
        "plt.ylabel(\"sin(10*t\")\n",
        "plt.legend()\n",
        "plt.show()\n",
        "\n",
        "plt.figure()\n",
        "plt.plot(t,y,color='r',label='Data')\n",
        "plt.plot(t,f_lsq,'g--',label='LSQ Library(Truth)')\n",
        "plt.scatter(t,f_hholder,color='y',s=5,label='Householder')\n",
        "plt.title(\"Comparison between approximation given by SVD and library inbuilt\")\n",
        "plt.xlabel(\"t\")\n",
        "plt.ylabel(\"sin(10*t\")\n",
        "plt.legend()\n",
        "plt.show()\n",
        "\n",
        "\n",
        "plt.figure()\n",
        "plt.plot(t,y,color='r',label='Data')\n",
        "plt.plot(t,f_lsq,'g--',label='LSQ Library(Truth)')\n",
        "plt.scatter(t,f_normal,color='m',s=4,label='Normal')\n",
        "plt.title(\"Comparison between approximation given by Normal equations and library inbuilt\")\n",
        "plt.xlabel(\"t\")\n",
        "plt.ylabel(\"sin(10*t\")\n",
        "plt.legend()\n",
        "plt.show()\n",
        "\n"
      ],
      "metadata": {
        "colab": {
          "base_uri": "https://localhost:8080/",
          "height": 1000
        },
        "id": "XUrLUy-AJ1l_",
        "outputId": "234373a5-1fa3-4f57-a492-3585a9ebfce1"
      },
      "execution_count": 19,
      "outputs": [
        {
          "output_type": "display_data",
          "data": {
            "text/plain": [
              "<Figure size 432x288 with 1 Axes>"
            ],
            "image/png": "[encoded data removed]"
          },
          "metadata": {
            "needs_background": "light"
          }
        },
        {
          "output_type": "display_data",
          "data": {
            "text/plain": [
              "<Figure size 432x288 with 1 Axes>"
            ],
            "image/png": "[encoded data removed]"
          },
          "metadata": {
            "needs_background": "light"
          }
        },
        {
          "output_type": "display_data",
          "data": {
            "text/plain": [
              "<Figure size 432x288 with 1 Axes>"
            ],
            "image/png": "[encoded data removed]"
          },
          "metadata": {
            "needs_background": "light"
          }
        },
        {
          "output_type": "display_data",
          "data": {
            "text/plain": [
              "<Figure size 432x288 with 1 Axes>"
            ],
            "image/png": "[encoded data removed]"
          },
          "metadata": {
            "needs_background": "light"
          }
        }
      ]
    },
    {
      "cell_type": "markdown",
      "source": [
        "The difference is not much visible in approximation between the curve from data and plotting from Library inbuilt.The difference is visible for only normal equations."
      ],
      "metadata": {
        "id": "PkoS6bfvK4xh"
      }
    }
  ]
}